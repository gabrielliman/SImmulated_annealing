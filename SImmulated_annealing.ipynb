{
 "cells": [
  {
   "cell_type": "code",
   "execution_count": 18,
   "id": "e523dd18",
   "metadata": {},
   "outputs": [],
   "source": [
    "from numba import jit\n",
    "import numpy as np\n",
    "import matplotlib.pyplot as plt\n",
    "\n",
    "N=130       # Numero de cidades\n",
    "\n",
    "rng = np.random.default_rng(seed=42)   # Define as posições aleatórias das cidades\n",
    "x=rng.random(N)\n",
    "y=rng.random(N)\n",
    "\n",
    "# define o caminho que liga as cidades (inicialmente a sequencia como foi criada)\n",
    "pathini = np.zeros(N,dtype=np.int16)\n",
    "for i in range(N):\n",
    "    pathini[i]=i"
   ]
  },
  {
   "cell_type": "code",
   "execution_count": 19,
   "id": "e008689e",
   "metadata": {},
   "outputs": [],
   "source": [
    "#define a distancia entre duas cidades quaisquer\n",
    "@jit(nopython=True)\n",
    "def distances(N,x,y):\n",
    "    \n",
    "    dist = np.zeros((N,N),dtype=np.float32)\n",
    "    for i in range(N):\n",
    "        for j in range(N):\n",
    "            dist[i,j] = np.sqrt((x[i]-x[j])*(x[i]-x[j])+(y[i]-y[j])*(y[i]-y[j]))\n",
    "            \n",
    "    return dist"
   ]
  },
  {
   "cell_type": "code",
   "execution_count": 20,
   "id": "91d2ce8f",
   "metadata": {},
   "outputs": [],
   "source": [
    "@jit(nopython=True)\n",
    "def custo(N,path,dist):\n",
    "    # calcula a distancia total percorrida pela caminhada\n",
    "    ener = 0\n",
    "    for i in range(N-1):\n",
    "        ener += dist[path[i],path[i+1]]\n",
    "    ener += dist[path[0],path[N-1]]     # conecta a última e a primeira cidades do caminho\n",
    "    \n",
    "    return ener"
   ]
  },
  {
   "cell_type": "code",
   "execution_count": 21,
   "id": "2c339c65",
   "metadata": {},
   "outputs": [],
   "source": [
    "@jit(nopython=True)\n",
    "def newpath(N,path):\n",
    "    \n",
    "    # define uma nova caminhada\n",
    "    \n",
    "    newpath = np.zeros(N,dtype=np.int16)\n",
    "\n",
    "    i=np.random.randint(N)   # escolhe uma posição aleatória da caminhada\n",
    "    j=i\n",
    "    while j==i:\n",
    "        j=np.random.randint(N)  # escolhe outra posição \n",
    "    if i>j:                    # ordena os índices\n",
    "        ini = j\n",
    "        fin = i\n",
    "    else:\n",
    "        ini = i\n",
    "        fin = j\n",
    "\n",
    "    for k in range(N):        # inverte o sentido em que percorre o caminho entre os indices escolhidos\n",
    "        if k >= ini and k <= fin:\n",
    "            newpath[k] = path[fin-k+ini]\n",
    "        else:\n",
    "            newpath[k] = path[k]\n",
    "\n",
    "    return newpath,ini,fin\n",
    "\n"
   ]
  },
  {
   "cell_type": "code",
   "execution_count": 22,
   "id": "8fbed79e",
   "metadata": {},
   "outputs": [],
   "source": [
    "@jit(nopython=True)\n",
    "def mcstep(N,beta,en,path,best_e,best_p,dist):\n",
    "    # realiza um passo de Monte Carlo\n",
    "    np1 = np.zeros(N,dtype=np.int16)\n",
    "    \n",
    "    np1,ini,fin = newpath(N,path) # propoe um novo caminho\n",
    "    \n",
    "    # determina a diferença de energia \n",
    "    esq = ini-1         # cidade anterior a inicial\n",
    "    if esq < 0: esq=N-1      # condicao de contorno\n",
    "    dir = fin +1        # cidade apos a final\n",
    "    if dir > N-1: dir=0      # condicao de contorno\n",
    "    de = -dist[path[esq],path[ini]] - dist[path[dir],path[fin]]+ dist[np1[esq],np1[ini]] + dist[np1[dir],np1[fin]]\n",
    "\n",
    "    if de < 0:         # aplica o criterio de Metropolis\n",
    "        en += de\n",
    "        path = np1\n",
    "        if en < best_e:  # guarda o melhor caminho gerado até o momento\n",
    "            best_e = en\n",
    "            best_p = path\n",
    "    else:              # aplica o criterio de Metropolis\n",
    "        if np.random.random() < np.exp(-beta*de):\n",
    "            en += de\n",
    "            path = np1\n",
    "            \n",
    "    return en,path,best_e,best_p"
   ]
  },
  {
   "cell_type": "code",
   "execution_count": null,
   "id": "84293603",
   "metadata": {},
   "outputs": [],
   "source": []
  },
  {
   "cell_type": "code",
   "execution_count": null,
   "id": "402dfce9",
   "metadata": {},
   "outputs": [],
   "source": []
  }
 ],
 "metadata": {
  "kernelspec": {
   "display_name": "Python 3 (ipykernel)",
   "language": "python",
   "name": "python3"
  },
  "language_info": {
   "codemirror_mode": {
    "name": "ipython",
    "version": 3
   },
   "file_extension": ".py",
   "mimetype": "text/x-python",
   "name": "python",
   "nbconvert_exporter": "python",
   "pygments_lexer": "ipython3",
   "version": "3.8.12"
  }
 },
 "nbformat": 4,
 "nbformat_minor": 5
}